{
 "cells": [
  {
   "cell_type": "markdown",
   "metadata": {},
   "source": [
    "# Homework 4 - Due Friday Sept 11, 5pm"
   ]
  },
  {
   "cell_type": "markdown",
   "metadata": {},
   "source": [
    "*The semi-empirical mass formula*\n",
    "\n",
    "In nuclear physics, the semi-empirical mass formula is a formula for calculating the\n",
    "approximate nuclear binding energy $B$ of an atomic nucleus with atomic number $Z$\n",
    "and mass number $A$. The formula looks like this:\n",
    "    \n",
    "$$ B = a_1 A - a_2 A^{2/3} - a_3 \\frac{Z^2}{A^{1/3}} - a_4 \\frac{(A - 2Z)^2}{A} - \\frac{a_5}{A^{1/2}} $$\n",
    "\n",
    "where, in units of millions of electron volts (MeV), the constants are $a_1 =\n",
    "15.67$, $a_2 = 17.23$, $a_3 = 0.75$, $a_4 = 93.2$, and\n",
    "\n",
    "$$ a_5  \\; =  \\;\\; \\left\\{ \\begin{array} {r@{\\quad\\tt if \\quad}l} 0 & A \\;{\\tt is\n",
    "      \\; odd}, \\\\\n",
    "    12.0 & A \\;{\\tt and}\\; Z \\;{\\tt are \\;both \\;even}, \\\\ -12.0 & A \\;{\\tt is\n",
    "     \\;  even \\; and}\\;  Z \\;{\\tt is\n",
    "  \\;  odd.} \\end{array} \\right. $$\n",
    "\n",
    "Write a function that takes as its input the values of $A$ and $Z$, and\n",
    "prints out: \n",
    "* (a) the binding energy $B$ for the corresponding atom and \n",
    "* (b) the binding energy per nucleon, which is $B/A$. \n",
    "\n",
    "Use your program to find\n",
    "the binding energy of an atom with $A = 58$ and $Z = 28$. (Hint: The\n",
    "correct answer is around 490 MeV.) \n",
    "\n",
    "Also run,  $A = 59$ and $Z = 28$ and $A = 58$ and $Z = 27$.\n"
   ]
  },
  {
   "cell_type": "code",
   "execution_count": 9,
   "metadata": {},
   "outputs": [
    {
     "name": "stdout",
     "output_type": "stream",
     "text": [
      "490.78425241273493\n",
      "498.144677545714\n",
      "485.30934897614435\n"
     ]
    }
   ],
   "source": [
    "#Your code here\n",
    "def binding_energy(mass_Num,  atomic_Num): #(A,Z)\n",
    "    a1=15.67\n",
    "    a2=17.23\n",
    "    a3=0.75\n",
    "    a4=93.2\n",
    "    a5=0\n",
    "    if(mass_Num%2==0 and atomic_Num%2==0 ):\n",
    "        a5=12\n",
    "    elif(mass_Num%2==0 and atomic_Num%2==1):\n",
    "        a5=-12\n",
    "    elif(mass_Num%2==1):\n",
    "        a5=0\n",
    "    \n",
    "    \n",
    "    \n",
    "    b_val=0\n",
    "    first_com= a1*mass_Num #computing correctly\n",
    "    sec_com=a2*((mass_Num)**(2/3)) #computing correctly\n",
    "    third_com=(a3*(atomic_Num**2))/(mass_Num**(1/3))   #computing correctly\n",
    "    fourth_com=(a4*(mass_Num-(2*atomic_Num))**2)/(mass_Num)   #computing correctly\n",
    "    fifth_com=(a5/(mass_Num)**(1/2)) #computing correctly\n",
    "    b_val=first_com-sec_com-third_com-fourth_com-fifth_com\n",
    "    return(b_val)\n",
    "\n",
    "\n",
    "print(binding_energy(58,28))\n",
    "print(binding_energy(59,28))\n",
    "print(binding_energy(58,27))"
   ]
  },
  {
   "cell_type": "code",
   "execution_count": null,
   "metadata": {},
   "outputs": [],
   "source": []
  }
 ],
 "metadata": {
  "kernelspec": {
   "display_name": "Python 3 (ipykernel)",
   "language": "python",
   "name": "python3"
  },
  "language_info": {
   "codemirror_mode": {
    "name": "ipython",
    "version": 3
   },
   "file_extension": ".py",
   "mimetype": "text/x-python",
   "name": "python",
   "nbconvert_exporter": "python",
   "pygments_lexer": "ipython3",
   "version": "3.9.12"
  }
 },
 "nbformat": 4,
 "nbformat_minor": 4
}
